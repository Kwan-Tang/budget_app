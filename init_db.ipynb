{
  "cells": [
    {
      "metadata": {
        "trusted": true
      },
      "cell_type": "code",
      "source": "from sqlalchemy.ext.declarative import declarative_base\nfrom sqlalchemy import Column, Integer, String, DateTime, ForeignKey,MetaData\nfrom sqlalchemy import create_engine\nfrom sqlalchemy.orm import sessionmaker\nimport random",
      "execution_count": 54,
      "outputs": []
    },
    {
      "metadata": {
        "trusted": true
      },
      "cell_type": "code",
      "source": "Base = declarative_base()\nmeta= MetaData()\nengine = create_engine('<PostgreSQL URI>')\nSession = sessionmaker(bind=engine)\nsession = Session()",
      "execution_count": 55,
      "outputs": []
    },
    {
      "metadata": {
        "trusted": true
      },
      "cell_type": "code",
      "source": "class Accounts(Base):\n    __tablename__ = \"accounts\"\n    __table_args__={\"extend_existing\":True}\n    id = Column(Integer,primary_key=True)\n    name = Column(String(250),nullable=False)\n    status = Column(String(50),nullable=False)\n    \nclass Categories(Base):\n    __tablename__ ='expense_categories'\n    __table_args__={\"extend_existing\":True}\n    id = Column(Integer,primary_key=True)\n    name = Column(String(50),nullable=False)\n    \nclass Transactions(Base):\n    __tablename__ ='transactions'\n    __table_args__={\"extend_existing\":True}\n    id = Column(Integer,primary_key=True)\n    date = Column(DateTime)\n    description = Column(String(250),nullable=False)\n    original_description = Column(String(250),nullable=False)\n    amount = Column(Integer,nullable=False)\n    transaction_type = Column(String(50),nullable=False)\n    categories = Column(Integer,ForeignKey('expense_categories.id'))\n    bank = Column(Integer,ForeignKey('accounts.id'))\n    \nBase.metadata.create_all(engine)    ",
      "execution_count": 56,
      "outputs": []
    },
    {
      "metadata": {
        "trusted": true
      },
      "cell_type": "code",
      "source": "def add_accounts():\n    session.query(Accounts).delete()\n    bank_accounts = ['Bank of America','Citibank','Chase','Wellsfargo','US Bank','PNC','American Express','Cash']\n    status = 'active'\n    engine.execute(Accounts.__table__.insert(),[dict(name=bank_account,status=status) for bank_account in bank_accounts])\n\ndef add_categories():\n    session.query(Categories).delete()\n    expense_categories = [\"Credit Card Payment\",\"Transfer\",\"Groceries\",\"Shopping\",\"Utilities\",\"Food & Dining\"\n                          ,\"Doctor\",\"Mortgage & Rent\",\"Cash & ATM\",\"Gas & Fuel\",\"Income\",\"Travel\",\"Entertainment\"]\n    engine.execute(Categories.__table__.insert(),[dict(name=expense_category) for expense_category in expense_categories]",
      "execution_count": 91,
      "outputs": []
    },
    {
      "metadata": {
        "trusted": true
      },
      "cell_type": "code",
      "source": "add_accounts()\nadd_categories()\nsession.commit()",
      "execution_count": 92,
      "outputs": []
    },
    {
      "metadata": {
        "trusted": true
      },
      "cell_type": "code",
      "source": "",
      "execution_count": null,
      "outputs": []
    }
  ],
  "metadata": {
    "kernelspec": {
      "name": "python36",
      "display_name": "Python 3.6",
      "language": "python"
    },
    "language_info": {
      "mimetype": "text/x-python",
      "nbconvert_exporter": "python",
      "name": "python",
      "pygments_lexer": "ipython3",
      "version": "3.6.6",
      "file_extension": ".py",
      "codemirror_mode": {
        "version": 3,
        "name": "ipython"
      }
    }
  },
  "nbformat": 4,
  "nbformat_minor": 2
}